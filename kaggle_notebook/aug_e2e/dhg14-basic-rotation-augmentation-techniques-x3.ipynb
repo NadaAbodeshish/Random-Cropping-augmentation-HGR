{
 "cells": [
  {
   "cell_type": "code",
   "execution_count": 1,
   "id": "656120ef",
   "metadata": {
    "_cell_guid": "b1076dfc-b9ad-4769-8c92-a6c4dae69d19",
    "_uuid": "8f2839f25d086af736a60e9eeb907d3b93b6e0e5",
    "execution": {
     "iopub.execute_input": "2024-11-10T22:26:52.310398Z",
     "iopub.status.busy": "2024-11-10T22:26:52.309450Z",
     "iopub.status.idle": "2024-11-10T22:26:55.841099Z",
     "shell.execute_reply": "2024-11-10T22:26:55.839915Z"
    },
    "papermill": {
     "duration": 3.539224,
     "end_time": "2024-11-10T22:26:55.843635",
     "exception": false,
     "start_time": "2024-11-10T22:26:52.304411",
     "status": "completed"
    },
    "tags": []
   },
   "outputs": [
    {
     "name": "stdout",
     "output_type": "stream",
     "text": [
      "Cloning into 'augmented-e2eET-Skeleton-Based-HGR-Using-Data-Level-Fusion'...\r\n",
      "remote: Enumerating objects: 470, done.\u001b[K\r\n",
      "remote: Counting objects: 100% (168/168), done.\u001b[K\r\n",
      "remote: Compressing objects: 100% (105/105), done.\u001b[K\r\n",
      "remote: Total 470 (delta 125), reused 106 (delta 63), pack-reused 302 (from 1)\u001b[K\r\n",
      "Receiving objects: 100% (470/470), 58.81 MiB | 46.15 MiB/s, done.\r\n",
      "Resolving deltas: 100% (304/304), done.\r\n"
     ]
    }
   ],
   "source": [
    "!git clone https://github.com/NadaAbodeshish/augmented-e2eET-Skeleton-Based-HGR-Using-Data-Level-Fusion.git"
   ]
  },
  {
   "cell_type": "code",
   "execution_count": 2,
   "id": "ff310e5e",
   "metadata": {
    "execution": {
     "iopub.execute_input": "2024-11-10T22:26:55.854177Z",
     "iopub.status.busy": "2024-11-10T22:26:55.853818Z",
     "iopub.status.idle": "2024-11-10T22:26:55.860975Z",
     "shell.execute_reply": "2024-11-10T22:26:55.859959Z"
    },
    "papermill": {
     "duration": 0.014395,
     "end_time": "2024-11-10T22:26:55.862909",
     "exception": false,
     "start_time": "2024-11-10T22:26:55.848514",
     "status": "completed"
    },
    "tags": []
   },
   "outputs": [
    {
     "name": "stdout",
     "output_type": "stream",
     "text": [
      "/kaggle/working/augmented-e2eET-Skeleton-Based-HGR-Using-Data-Level-Fusion\n"
     ]
    }
   ],
   "source": [
    "%cd augmented-e2eET-Skeleton-Based-HGR-Using-Data-Level-Fusion"
   ]
  },
  {
   "cell_type": "code",
   "execution_count": 3,
   "id": "b6fcee03",
   "metadata": {
    "execution": {
     "iopub.execute_input": "2024-11-10T22:26:55.872103Z",
     "iopub.status.busy": "2024-11-10T22:26:55.871784Z",
     "iopub.status.idle": "2024-11-10T22:26:56.928294Z",
     "shell.execute_reply": "2024-11-10T22:26:56.927310Z"
    },
    "papermill": {
     "duration": 1.06366,
     "end_time": "2024-11-10T22:26:56.930705",
     "exception": false,
     "start_time": "2024-11-10T22:26:55.867045",
     "status": "completed"
    },
    "tags": []
   },
   "outputs": [
    {
     "name": "stdout",
     "output_type": "stream",
     "text": [
      "'DHG1428.mVOs-3d.14g-noisy(raw).960px-[allVOs].adaptive-mean'\r\n"
     ]
    }
   ],
   "source": [
    "!ls /kaggle/input/dhg14-rot/augmenttttdrrsds-e2eET-Skeleton-Based-HGR-Using-Data-Level-Fusion/images_d_augmented"
   ]
  },
  {
   "cell_type": "code",
   "execution_count": 4,
   "id": "1280d96b",
   "metadata": {
    "execution": {
     "iopub.execute_input": "2024-11-10T22:26:56.941142Z",
     "iopub.status.busy": "2024-11-10T22:26:56.940745Z",
     "iopub.status.idle": "2024-11-10T22:29:41.589641Z",
     "shell.execute_reply": "2024-11-10T22:29:41.588416Z"
    },
    "papermill": {
     "duration": 164.657508,
     "end_time": "2024-11-10T22:29:41.592637",
     "exception": false,
     "start_time": "2024-11-10T22:26:56.935129",
     "status": "completed"
    },
    "tags": []
   },
   "outputs": [],
   "source": [
    "!cp -r /kaggle/input/dhg14-rot/augmenttttdrrsds-e2eET-Skeleton-Based-HGR-Using-Data-Level-Fusion/images_d_augmented/* /kaggle/working/augmented-e2eET-Skeleton-Based-HGR-Using-Data-Level-Fusion/images_d/"
   ]
  },
  {
   "cell_type": "code",
   "execution_count": 5,
   "id": "e377b2a6",
   "metadata": {
    "execution": {
     "iopub.execute_input": "2024-11-10T22:29:41.607586Z",
     "iopub.status.busy": "2024-11-10T22:29:41.607222Z",
     "iopub.status.idle": "2024-11-10T22:29:41.613813Z",
     "shell.execute_reply": "2024-11-10T22:29:41.612895Z"
    },
    "papermill": {
     "duration": 0.014021,
     "end_time": "2024-11-10T22:29:41.615828",
     "exception": false,
     "start_time": "2024-11-10T22:29:41.601807",
     "status": "completed"
    },
    "tags": []
   },
   "outputs": [
    {
     "name": "stdout",
     "output_type": "stream",
     "text": [
      "/kaggle/working/augmented-e2eET-Skeleton-Based-HGR-Using-Data-Level-Fusion/experiments.server\n"
     ]
    }
   ],
   "source": [
    "%cd experiments.server"
   ]
  },
  {
   "cell_type": "code",
   "execution_count": 6,
   "id": "cbff43a6",
   "metadata": {
    "execution": {
     "iopub.execute_input": "2024-11-10T22:29:41.625110Z",
     "iopub.status.busy": "2024-11-10T22:29:41.624812Z",
     "iopub.status.idle": "2024-11-10T22:30:18.849831Z",
     "shell.execute_reply": "2024-11-10T22:30:18.848909Z"
    },
    "papermill": {
     "duration": 37.232344,
     "end_time": "2024-11-10T22:30:18.852276",
     "exception": false,
     "start_time": "2024-11-10T22:29:41.619932",
     "status": "completed"
    },
    "tags": []
   },
   "outputs": [
    {
     "name": "stdout",
     "output_type": "stream",
     "text": [
      "Collecting pytorchcv\r\n",
      "  Downloading pytorchcv-0.0.73-py2.py3-none-any.whl.metadata (134 kB)\r\n",
      "\u001b[2K     \u001b[90m━━━━━━━━━━━━━━━━━━━━━━━━━━━━━━━━━━━━━━━\u001b[0m \u001b[32m134.2/134.2 kB\u001b[0m \u001b[31m4.5 MB/s\u001b[0m eta \u001b[36m0:00:00\u001b[0m\r\n",
      "\u001b[?25hRequirement already satisfied: numpy in /opt/conda/lib/python3.10/site-packages (from pytorchcv) (1.26.4)\r\n",
      "Requirement already satisfied: requests in /opt/conda/lib/python3.10/site-packages (from pytorchcv) (2.32.3)\r\n",
      "Requirement already satisfied: torch in /opt/conda/lib/python3.10/site-packages (from pytorchcv) (2.4.0)\r\n",
      "Requirement already satisfied: torchvision in /opt/conda/lib/python3.10/site-packages (from pytorchcv) (0.19.0)\r\n",
      "Requirement already satisfied: charset-normalizer<4,>=2 in /opt/conda/lib/python3.10/site-packages (from requests->pytorchcv) (3.3.2)\r\n",
      "Requirement already satisfied: idna<4,>=2.5 in /opt/conda/lib/python3.10/site-packages (from requests->pytorchcv) (3.7)\r\n",
      "Requirement already satisfied: urllib3<3,>=1.21.1 in /opt/conda/lib/python3.10/site-packages (from requests->pytorchcv) (1.26.18)\r\n",
      "Requirement already satisfied: certifi>=2017.4.17 in /opt/conda/lib/python3.10/site-packages (from requests->pytorchcv) (2024.8.30)\r\n",
      "Requirement already satisfied: filelock in /opt/conda/lib/python3.10/site-packages (from torch->pytorchcv) (3.15.1)\r\n",
      "Requirement already satisfied: typing-extensions>=4.8.0 in /opt/conda/lib/python3.10/site-packages (from torch->pytorchcv) (4.12.2)\r\n",
      "Requirement already satisfied: sympy in /opt/conda/lib/python3.10/site-packages (from torch->pytorchcv) (1.13.3)\r\n",
      "Requirement already satisfied: networkx in /opt/conda/lib/python3.10/site-packages (from torch->pytorchcv) (3.3)\r\n",
      "Requirement already satisfied: jinja2 in /opt/conda/lib/python3.10/site-packages (from torch->pytorchcv) (3.1.4)\r\n",
      "Requirement already satisfied: fsspec in /opt/conda/lib/python3.10/site-packages (from torch->pytorchcv) (2024.6.1)\r\n",
      "Requirement already satisfied: pillow!=8.3.*,>=5.3.0 in /opt/conda/lib/python3.10/site-packages (from torchvision->pytorchcv) (10.3.0)\r\n",
      "Requirement already satisfied: MarkupSafe>=2.0 in /opt/conda/lib/python3.10/site-packages (from jinja2->torch->pytorchcv) (2.1.5)\r\n",
      "Requirement already satisfied: mpmath<1.4,>=1.1.0 in /opt/conda/lib/python3.10/site-packages (from sympy->torch->pytorchcv) (1.3.0)\r\n",
      "Downloading pytorchcv-0.0.73-py2.py3-none-any.whl (585 kB)\r\n",
      "\u001b[2K   \u001b[90m━━━━━━━━━━━━━━━━━━━━━━━━━━━━━━━━━━━━━━━━\u001b[0m \u001b[32m585.2/585.2 kB\u001b[0m \u001b[31m20.5 MB/s\u001b[0m eta \u001b[36m0:00:00\u001b[0m\r\n",
      "\u001b[?25hInstalling collected packages: pytorchcv\r\n",
      "Successfully installed pytorchcv-0.0.73\r\n",
      "Requirement already satisfied: matplotlib in /opt/conda/lib/python3.10/site-packages (3.7.5)\r\n",
      "Requirement already satisfied: contourpy>=1.0.1 in /opt/conda/lib/python3.10/site-packages (from matplotlib) (1.2.1)\r\n",
      "Requirement already satisfied: cycler>=0.10 in /opt/conda/lib/python3.10/site-packages (from matplotlib) (0.12.1)\r\n",
      "Requirement already satisfied: fonttools>=4.22.0 in /opt/conda/lib/python3.10/site-packages (from matplotlib) (4.53.0)\r\n",
      "Requirement already satisfied: kiwisolver>=1.0.1 in /opt/conda/lib/python3.10/site-packages (from matplotlib) (1.4.5)\r\n",
      "Requirement already satisfied: numpy<2,>=1.20 in /opt/conda/lib/python3.10/site-packages (from matplotlib) (1.26.4)\r\n",
      "Requirement already satisfied: packaging>=20.0 in /opt/conda/lib/python3.10/site-packages (from matplotlib) (21.3)\r\n",
      "Requirement already satisfied: pillow>=6.2.0 in /opt/conda/lib/python3.10/site-packages (from matplotlib) (10.3.0)\r\n",
      "Requirement already satisfied: pyparsing>=2.3.1 in /opt/conda/lib/python3.10/site-packages (from matplotlib) (3.1.2)\r\n",
      "Requirement already satisfied: python-dateutil>=2.7 in /opt/conda/lib/python3.10/site-packages (from matplotlib) (2.9.0.post0)\r\n",
      "Requirement already satisfied: six>=1.5 in /opt/conda/lib/python3.10/site-packages (from python-dateutil>=2.7->matplotlib) (1.16.0)\r\n",
      "Collecting geffnet\r\n",
      "  Downloading geffnet-1.0.2-py3-none-any.whl.metadata (22 kB)\r\n",
      "Requirement already satisfied: torch>=1.4 in /opt/conda/lib/python3.10/site-packages (from geffnet) (2.4.0)\r\n",
      "Requirement already satisfied: torchvision in /opt/conda/lib/python3.10/site-packages (from geffnet) (0.19.0)\r\n",
      "Requirement already satisfied: filelock in /opt/conda/lib/python3.10/site-packages (from torch>=1.4->geffnet) (3.15.1)\r\n",
      "Requirement already satisfied: typing-extensions>=4.8.0 in /opt/conda/lib/python3.10/site-packages (from torch>=1.4->geffnet) (4.12.2)\r\n",
      "Requirement already satisfied: sympy in /opt/conda/lib/python3.10/site-packages (from torch>=1.4->geffnet) (1.13.3)\r\n",
      "Requirement already satisfied: networkx in /opt/conda/lib/python3.10/site-packages (from torch>=1.4->geffnet) (3.3)\r\n",
      "Requirement already satisfied: jinja2 in /opt/conda/lib/python3.10/site-packages (from torch>=1.4->geffnet) (3.1.4)\r\n",
      "Requirement already satisfied: fsspec in /opt/conda/lib/python3.10/site-packages (from torch>=1.4->geffnet) (2024.6.1)\r\n",
      "Requirement already satisfied: numpy in /opt/conda/lib/python3.10/site-packages (from torchvision->geffnet) (1.26.4)\r\n",
      "Requirement already satisfied: pillow!=8.3.*,>=5.3.0 in /opt/conda/lib/python3.10/site-packages (from torchvision->geffnet) (10.3.0)\r\n",
      "Requirement already satisfied: MarkupSafe>=2.0 in /opt/conda/lib/python3.10/site-packages (from jinja2->torch>=1.4->geffnet) (2.1.5)\r\n",
      "Requirement already satisfied: mpmath<1.4,>=1.1.0 in /opt/conda/lib/python3.10/site-packages (from sympy->torch>=1.4->geffnet) (1.3.0)\r\n",
      "Downloading geffnet-1.0.2-py3-none-any.whl (40 kB)\r\n",
      "\u001b[2K   \u001b[90m━━━━━━━━━━━━━━━━━━━━━━━━━━━━━━━━━━━━━━━━\u001b[0m \u001b[32m40.2/40.2 kB\u001b[0m \u001b[31m337.0 kB/s\u001b[0m eta \u001b[36m0:00:00\u001b[0m\r\n",
      "\u001b[?25hInstalling collected packages: geffnet\r\n",
      "Successfully installed geffnet-1.0.2\r\n"
     ]
    }
   ],
   "source": [
    "!pip install pytorchcv\n",
    "!pip install matplotlib\n",
    "!pip install geffnet"
   ]
  },
  {
   "cell_type": "code",
   "execution_count": 7,
   "id": "567167d7",
   "metadata": {
    "execution": {
     "iopub.execute_input": "2024-11-10T22:30:18.865739Z",
     "iopub.status.busy": "2024-11-10T22:30:18.865408Z",
     "iopub.status.idle": "2024-11-11T02:29:18.826384Z",
     "shell.execute_reply": "2024-11-11T02:29:18.825179Z"
    },
    "papermill": {
     "duration": 14339.970473,
     "end_time": "2024-11-11T02:29:18.828821",
     "exception": false,
     "start_time": "2024-11-10T22:30:18.858348",
     "status": "completed"
    },
    "tags": []
   },
   "outputs": [
    {
     "name": "stdout",
     "output_type": "stream",
     "text": [
      "Debug: Number of items in training split: 1960\r\n",
      "Debug: Number of items in validation split: 840\r\n",
      "Debug: Expected classes: 14, Detected classes: 14\r\n",
      "Debug: Detected class vocab: ['01-Grab', '02-Tap', '03-Expand', '04-Pinch', '05-RotationCW', '06-RotationCCW', '07-SwipeRight', '08-SwipeLeft', '09-SwipeUp', '10-SwipeDown', '11-SwipeX', '12-Swipe+', '13-SwipeV', '14-Shake']\r\n",
      "/opt/conda/lib/python3.10/site-packages/torchvision/models/_utils.py:208: UserWarning: The parameter 'pretrained' is deprecated since 0.13 and may be removed in the future, please use 'weights' instead.\r\n",
      "  warnings.warn(\r\n",
      "/opt/conda/lib/python3.10/site-packages/torchvision/models/_utils.py:223: UserWarning: Arguments other than a weight enum or `None` for 'weights' are deprecated since 0.13 and may be removed in the future. The current behavior is equivalent to passing `weights=ResNet34_Weights.IMAGENET1K_V1`. You can also use `weights=ResNet34_Weights.DEFAULT` to get the most up-to-date weights.\r\n",
      "  warnings.warn(msg)\r\n",
      "Downloading: \"https://download.pytorch.org/models/resnet34-b627a593.pth\" to /root/.cache/torch/hub/checkpoints/resnet34-b627a593.pth\r\n",
      "100%|███████████████████████████████████████| 83.3M/83.3M [00:00<00:00, 182MB/s]\r\n",
      "\r\n",
      "metrics= [<bound method accuracyMultiVOs_0 of e2eTunerLossWrapper()>, <bound method accuracyMultiVOs_1 of e2eTunerLossWrapper()>, <bound method accuracyMultiVOs_2 of e2eTunerLossWrapper()>, <bound method e2eTunerLossWrapper.accuracyTuner of e2eTunerLossWrapper()>]\r\n",
      "Batch Size: 16, Image Size: 224, Epochs: [20, 20]\r\n",
      "\r\n",
      "Model FROZEN [a].\r\n",
      "/opt/conda/lib/python3.10/site-packages/fastai/learner.py:53: FutureWarning: You are using `torch.load` with `weights_only=False` (the current default value), which uses the default pickle module implicitly. It is possible to construct malicious pickle data which will execute arbitrary code during unpickling (See https://github.com/pytorch/pytorch/blob/main/SECURITY.md#untrusted-models for more details). In a future release, the default value for `weights_only` will be flipped to `True`. This limits the functions that could be executed during unpickling. Arbitrary objects will no longer be allowed to be loaded via this mode unless they are explicitly allowlisted by the user via `torch.serialization.add_safe_globals`. We recommend you start setting `weights_only=True` for any use case where you don't have full control of the loaded file. Please open an issue on GitHub for any issues related to this experimental feature.\r\n",
      "  state = torch.load(file, map_location=device, **torch_load_kwargs)\r\n",
      ">> @i224a --- pct_start: 0.55 --- learning_rate: 0.0006918309954926372\r\n",
      "epoch     train_loss  valid_loss  accuracyTopDown  accuracyCustom  accuracyFrontAway  accuracyTuner  time    \r\n",
      "0         7.944544    6.489740    0.390476         0.383333        0.396429           0.654762       04:30     \r\n",
      "1         6.217806    5.508387    0.417857         0.451190        0.508333           0.800000       04:27     \r\n",
      "2         5.650610    5.044089    0.448810         0.460714        0.546429           0.841667       04:23     \r\n",
      "3         5.040838    4.867514    0.491667         0.489286        0.554762           0.816667       04:24     \r\n",
      "4         4.733967    4.247474    0.530952         0.559524        0.644048           0.871429       04:30     \r\n",
      "5         4.497281    4.049499    0.538095         0.578571        0.657143           0.880952       04:25     \r\n",
      "6         4.190581    4.031490    0.530952         0.566667        0.645238           0.886905       04:31     \r\n",
      "7         4.068481    4.062207    0.557143         0.565476        0.623810           0.860714       04:28     \r\n",
      "8         4.005753    3.951535    0.542857         0.596429        0.635714           0.882143       04:28     \r\n",
      "9         3.808229    3.938232    0.579762         0.592857        0.615476           0.870238       04:28     \r\n",
      "10        3.648187    3.854410    0.582143         0.586905        0.630952           0.878571       04:27     \r\n",
      "11        3.542315    3.735747    0.602381         0.608333        0.644048           0.900000       04:29     \r\n",
      "12        3.400840    3.547438    0.607143         0.629762        0.667857           0.905952       04:27     \r\n",
      "13        3.434842    3.555769    0.594048         0.613095        0.657143           0.921429       04:26     \r\n",
      "14        3.217182    3.571593    0.608333         0.626190        0.659524           0.925000       04:27     \r\n",
      "15        3.204129    3.669854    0.611905         0.610714        0.654762           0.913095       04:27     \r\n",
      "16        2.947123    3.558623    0.601190         0.623810        0.670238           0.905952       04:28     \r\n",
      "17        2.776994    3.344611    0.639286         0.652381        0.677381           0.927381       04:26     \r\n",
      "18        2.892780    3.372203    0.653571         0.650000        0.670238           0.926190       04:28     \r\n",
      "19        2.917776    3.389720    0.632143         0.641667        0.686905           0.933333       04:27     \r\n",
      "@outsidersCustomCallback: Training completed and best i224a model loaded!\r\n",
      "-- [ i224a] - 0.6321 - 0.6417 - 0.6869 - 0.9333 - 01:32\r\n",
      "\r\n",
      "Model UNFROZEN [b].\r\n",
      ">> @i224b --- pct_start: 0.55 --- learning_rate: 9.999999747378752e-06\r\n",
      "epoch     train_loss  valid_loss  accuracyTopDown  accuracyCustom  accuracyFrontAway  accuracyTuner  time    \r\n",
      "0         2.845714    3.497731    0.632143         0.634524        0.667857           0.929762       04:41     \r\n",
      "1         2.746823    3.319515    0.654762         0.653571        0.685714           0.923810       04:44     \r\n",
      "2         2.697882    3.250915    0.672619         0.630952        0.696429           0.929762       04:42     \r\n",
      "3         2.472387    3.143783    0.686905         0.666667        0.694048           0.935714       04:35     \r\n",
      "4         2.381300    3.055311    0.670238         0.677381        0.708333           0.939286       04:42     \r\n",
      "5         2.359936    3.097470    0.669048         0.664286        0.701190           0.922619       04:45     \r\n",
      "6         2.296053    3.131500    0.670238         0.666667        0.700000           0.921429       04:42     \r\n",
      "7         2.204592    2.974360    0.682143         0.702381        0.705952           0.939286       04:41     \r\n",
      "8         2.173489    3.030174    0.689286         0.685714        0.720238           0.935714       04:43     \r\n",
      "9         2.016517    2.924534    0.675000         0.689286        0.729762           0.945238       04:42     \r\n",
      "10        1.910869    2.873878    0.717857         0.691667        0.709524           0.934524       04:41     \r\n",
      "11        1.931682    2.886900    0.691667         0.690476        0.725000           0.936905       04:49     \r\n",
      "12        1.875699    2.891745    0.702381         0.690476        0.726190           0.942857       05:03     \r\n",
      "13        1.764321    2.840566    0.705952         0.701190        0.727381           0.944048       04:52     \r\n",
      "14        1.667418    2.845865    0.705952         0.690476        0.735714           0.941667       04:51     \r\n",
      "15        1.663379    2.866624    0.708333         0.688095        0.716667           0.938095       04:49     \r\n",
      "16        1.542456    2.802757    0.704762         0.692857        0.723810           0.947619       04:52     \r\n",
      "17        1.583489    2.888097    0.694048         0.684524        0.714286           0.939286       04:46     \r\n",
      "18        1.472582    2.871227    0.696429         0.701190        0.716667           0.933333       04:46     \r\n",
      "19        1.569330    2.830904    0.700000         0.696429        0.720238           0.940476       04:45     \r\n",
      "@outsidersCustomCallback: Training completed and best i224b model loaded!\r\n",
      "-- [ i224b] - 0.7048 - 0.6929 - 0.7238 - 0.9476 - 03:09\r\n",
      ">> @i224bf --- pct_start: 0.55 --- learning_rate: 9.999999747378752e-07\r\n",
      "epoch     train_loss  valid_loss  accuracyTopDown  accuracyCustom  accuracyFrontAway  accuracyTuner  time    \r\n",
      "0         1.629404    2.857553    0.710714         0.707143        0.710714           0.938095       04:45     \r\n",
      "1         1.483007    2.810712    0.719048         0.695238        0.722619           0.946429       04:47     \r\n",
      "2         1.501395    2.921962    0.680952         0.707143        0.711905           0.935714       04:45     \r\n",
      "3         1.503702    2.876071    0.701190         0.714286        0.723810           0.934524       04:46     \r\n",
      "4         1.531171    2.794485    0.676190         0.721429        0.727381           0.941667       04:45     \r\n",
      "5         1.428111    2.765174    0.694048         0.714286        0.730952           0.946429       04:44     \r\n",
      "6         1.480468    2.789088    0.698810         0.704762        0.722619           0.947619       04:44     \r\n",
      "7         1.445040    2.782011    0.707143         0.700000        0.725000           0.952381       04:44     \r\n",
      "8         1.497877    2.837982    0.698810         0.697619        0.720238           0.946429       04:41     \r\n",
      "9         1.443945    2.806304    0.708333         0.709524        0.723810           0.939286       04:41     \r\n",
      "@outsidersCustomCallback: Training completed and best i224bf model loaded!\r\n",
      "-- [i224bf] - 0.7071 - 0.7000 - 0.7250 - 0.9524 - 03:57\r\n",
      "Time Elapsed ~ 03h:57m:31s\r\n",
      "accuracies@e2eT: {'Top-Down': 0.7071, 'Custom': 0.7, 'Front-Away': 0.725, 'Tuner': 0.9524}\r\n",
      "e2eT_MaxA: 0.9524 @03h:58m:31s\r\n",
      "Training completed @mVO.e2eEnsembleTuning ->> [2b97]-101124.2230 ->- e2eT-DHG1428.3d-14G-[td_cm_fa]-i20\r\n"
     ]
    }
   ],
   "source": [
    "!python mVO.e2eEnsembleTuning.py -IG 0 -nC 14 -mVOs top-down custom front-away -dsN DHG1428 -IISE 0 -ISIS 0"
   ]
  },
  {
   "cell_type": "code",
   "execution_count": null,
   "id": "817ac0a6",
   "metadata": {
    "papermill": {
     "duration": 0.720354,
     "end_time": "2024-11-11T02:29:20.308445",
     "exception": false,
     "start_time": "2024-11-11T02:29:19.588091",
     "status": "completed"
    },
    "tags": []
   },
   "outputs": [],
   "source": []
  }
 ],
 "metadata": {
  "kaggle": {
   "accelerator": "nvidiaTeslaT4",
   "dataSources": [
    {
     "datasetId": 6054858,
     "sourceId": 9864696,
     "sourceType": "datasetVersion"
    }
   ],
   "dockerImageVersionId": 30787,
   "isGpuEnabled": true,
   "isInternetEnabled": true,
   "language": "python",
   "sourceType": "notebook"
  },
  "kernelspec": {
   "display_name": "Python 3",
   "language": "python",
   "name": "python3"
  },
  "language_info": {
   "codemirror_mode": {
    "name": "ipython",
    "version": 3
   },
   "file_extension": ".py",
   "mimetype": "text/x-python",
   "name": "python",
   "nbconvert_exporter": "python",
   "pygments_lexer": "ipython3",
   "version": "3.10.14"
  },
  "papermill": {
   "default_parameters": {},
   "duration": 14552.065098,
   "end_time": "2024-11-11T02:29:21.429999",
   "environment_variables": {},
   "exception": null,
   "input_path": "__notebook__.ipynb",
   "output_path": "__notebook__.ipynb",
   "parameters": {},
   "start_time": "2024-11-10T22:26:49.364901",
   "version": "2.6.0"
  }
 },
 "nbformat": 4,
 "nbformat_minor": 5
}
