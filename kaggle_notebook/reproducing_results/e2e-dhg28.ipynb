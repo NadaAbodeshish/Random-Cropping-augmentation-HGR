{
 "cells": [
  {
   "cell_type": "code",
   "execution_count": 1,
   "metadata": {
    "_cell_guid": "b1076dfc-b9ad-4769-8c92-a6c4dae69d19",
    "_uuid": "8f2839f25d086af736a60e9eeb907d3b93b6e0e5",
    "execution": {
     "iopub.execute_input": "2024-11-27T11:26:03.365558Z",
     "iopub.status.busy": "2024-11-27T11:26:03.365230Z",
     "iopub.status.idle": "2024-11-27T11:26:07.463625Z",
     "shell.execute_reply": "2024-11-27T11:26:07.462411Z",
     "shell.execute_reply.started": "2024-11-27T11:26:03.365527Z"
    },
    "trusted": true
   },
   "outputs": [
    {
     "name": "stdout",
     "output_type": "stream",
     "text": [
      "Cloning into 'augmented-e2eET-Skeleton-Based-HGR-Using-Data-Level-Fusion'...\n",
      "remote: Enumerating objects: 492, done.\u001b[K\n",
      "remote: Counting objects: 100% (190/190), done.\u001b[K\n",
      "remote: Compressing objects: 100% (123/123), done.\u001b[K\n",
      "remote: Total 492 (delta 137), reused 119 (delta 66), pack-reused 302 (from 1)\u001b[K\n",
      "Receiving objects: 100% (492/492), 58.83 MiB | 38.08 MiB/s, done.\n",
      "Resolving deltas: 100% (316/316), done.\n"
     ]
    }
   ],
   "source": [
    " !git clone https://github.com/NadaAbodeshish/Random-Cropping-augmentation-HGR.git"
   ]
  },
  {
   "cell_type": "code",
   "execution_count": 2,
   "metadata": {
    "execution": {
     "iopub.execute_input": "2024-11-27T11:26:07.466876Z",
     "iopub.status.busy": "2024-11-27T11:26:07.466468Z",
     "iopub.status.idle": "2024-11-27T11:26:07.473858Z",
     "shell.execute_reply": "2024-11-27T11:26:07.472950Z",
     "shell.execute_reply.started": "2024-11-27T11:26:07.466833Z"
    },
    "trusted": true
   },
   "outputs": [
    {
     "name": "stdout",
     "output_type": "stream",
     "text": [
      "/kaggle/working/augmented-e2eET-Skeleton-Based-HGR-Using-Data-Level-Fusion\n"
     ]
    }
   ],
   "source": [
    "%cd Random-Cropping-augmentation-HGR/e2eET\n"
   ]
  },
  {
   "cell_type": "code",
   "execution_count": 3,
   "metadata": {
    "execution": {
     "iopub.execute_input": "2024-11-27T11:26:07.475916Z",
     "iopub.status.busy": "2024-11-27T11:26:07.475247Z",
     "iopub.status.idle": "2024-11-27T11:26:08.559308Z",
     "shell.execute_reply": "2024-11-27T11:26:08.558433Z",
     "shell.execute_reply.started": "2024-11-27T11:26:07.475878Z"
    },
    "trusted": true
   },
   "outputs": [
    {
     "name": "stdout",
     "output_type": "stream",
     "text": [
      "'DHG1428.mVOs-3d.28g-noisy(raw).960px-[allVOs].adaptive-mean'\n"
     ]
    }
   ],
   "source": [
    "!ls /kaggle/input/dhg2814"
   ]
  },
  {
   "cell_type": "code",
   "execution_count": 4,
   "metadata": {
    "execution": {
     "iopub.execute_input": "2024-11-27T11:26:08.560785Z",
     "iopub.status.busy": "2024-11-27T11:26:08.560512Z",
     "iopub.status.idle": "2024-11-27T11:28:54.367243Z",
     "shell.execute_reply": "2024-11-27T11:28:54.365984Z",
     "shell.execute_reply.started": "2024-11-27T11:26:08.560744Z"
    },
    "trusted": true
   },
   "outputs": [],
   "source": [
    "!cp -r /kaggle/input/dhg2814/* /kaggle/working/Random-Cropping-augmentation-HGR/e2eET/images_d/ "
   ]
  },
  {
   "cell_type": "code",
   "execution_count": 5,
   "metadata": {
    "execution": {
     "iopub.execute_input": "2024-11-27T11:28:54.370497Z",
     "iopub.status.busy": "2024-11-27T11:28:54.370096Z",
     "iopub.status.idle": "2024-11-27T11:28:54.376389Z",
     "shell.execute_reply": "2024-11-27T11:28:54.375464Z",
     "shell.execute_reply.started": "2024-11-27T11:28:54.370455Z"
    },
    "trusted": true
   },
   "outputs": [
    {
     "name": "stdout",
     "output_type": "stream",
     "text": [
      "/kaggle/working/augmented-e2eET-Skeleton-Based-HGR-Using-Data-Level-Fusion/experiments.server\n"
     ]
    }
   ],
   "source": [
    "%cd experiments.server"
   ]
  },
  {
   "cell_type": "code",
   "execution_count": 6,
   "metadata": {
    "execution": {
     "iopub.execute_input": "2024-11-27T11:28:54.377781Z",
     "iopub.status.busy": "2024-11-27T11:28:54.377471Z",
     "iopub.status.idle": "2024-11-27T11:29:22.010054Z",
     "shell.execute_reply": "2024-11-27T11:29:22.009215Z",
     "shell.execute_reply.started": "2024-11-27T11:28:54.377753Z"
    },
    "trusted": true
   },
   "outputs": [
    {
     "name": "stdout",
     "output_type": "stream",
     "text": [
      "Collecting pytorchcv\n",
      "  Downloading pytorchcv-0.0.73-py2.py3-none-any.whl.metadata (134 kB)\n",
      "\u001b[2K     \u001b[90m━━━━━━━━━━━━━━━━━━━━━━━━━━━━━━━━━━━━━━━\u001b[0m \u001b[32m134.2/134.2 kB\u001b[0m \u001b[31m2.9 MB/s\u001b[0m eta \u001b[36m0:00:00\u001b[0m00:01\u001b[0m\n",
      "\u001b[?25hRequirement already satisfied: numpy in /opt/conda/lib/python3.10/site-packages (from pytorchcv) (1.26.4)\n",
      "Requirement already satisfied: requests in /opt/conda/lib/python3.10/site-packages (from pytorchcv) (2.32.3)\n",
      "Requirement already satisfied: torch in /opt/conda/lib/python3.10/site-packages (from pytorchcv) (2.4.0)\n",
      "Requirement already satisfied: torchvision in /opt/conda/lib/python3.10/site-packages (from pytorchcv) (0.19.0)\n",
      "Requirement already satisfied: charset-normalizer<4,>=2 in /opt/conda/lib/python3.10/site-packages (from requests->pytorchcv) (3.3.2)\n",
      "Requirement already satisfied: idna<4,>=2.5 in /opt/conda/lib/python3.10/site-packages (from requests->pytorchcv) (3.7)\n",
      "Requirement already satisfied: urllib3<3,>=1.21.1 in /opt/conda/lib/python3.10/site-packages (from requests->pytorchcv) (1.26.18)\n",
      "Requirement already satisfied: certifi>=2017.4.17 in /opt/conda/lib/python3.10/site-packages (from requests->pytorchcv) (2024.8.30)\n",
      "Requirement already satisfied: filelock in /opt/conda/lib/python3.10/site-packages (from torch->pytorchcv) (3.15.1)\n",
      "Requirement already satisfied: typing-extensions>=4.8.0 in /opt/conda/lib/python3.10/site-packages (from torch->pytorchcv) (4.12.2)\n",
      "Requirement already satisfied: sympy in /opt/conda/lib/python3.10/site-packages (from torch->pytorchcv) (1.13.3)\n",
      "Requirement already satisfied: networkx in /opt/conda/lib/python3.10/site-packages (from torch->pytorchcv) (3.3)\n",
      "Requirement already satisfied: jinja2 in /opt/conda/lib/python3.10/site-packages (from torch->pytorchcv) (3.1.4)\n",
      "Requirement already satisfied: fsspec in /opt/conda/lib/python3.10/site-packages (from torch->pytorchcv) (2024.6.1)\n",
      "Requirement already satisfied: pillow!=8.3.*,>=5.3.0 in /opt/conda/lib/python3.10/site-packages (from torchvision->pytorchcv) (10.3.0)\n",
      "Requirement already satisfied: MarkupSafe>=2.0 in /opt/conda/lib/python3.10/site-packages (from jinja2->torch->pytorchcv) (2.1.5)\n",
      "Requirement already satisfied: mpmath<1.4,>=1.1.0 in /opt/conda/lib/python3.10/site-packages (from sympy->torch->pytorchcv) (1.3.0)\n",
      "Downloading pytorchcv-0.0.73-py2.py3-none-any.whl (585 kB)\n",
      "\u001b[2K   \u001b[90m━━━━━━━━━━━━━━━━━━━━━━━━━━━━━━━━━━━━━━━━\u001b[0m \u001b[32m585.2/585.2 kB\u001b[0m \u001b[31m16.0 MB/s\u001b[0m eta \u001b[36m0:00:00\u001b[0m00:01\u001b[0m\n",
      "\u001b[?25hInstalling collected packages: pytorchcv\n",
      "Successfully installed pytorchcv-0.0.73\n",
      "Requirement already satisfied: matplotlib in /opt/conda/lib/python3.10/site-packages (3.7.5)\n",
      "Requirement already satisfied: contourpy>=1.0.1 in /opt/conda/lib/python3.10/site-packages (from matplotlib) (1.2.1)\n",
      "Requirement already satisfied: cycler>=0.10 in /opt/conda/lib/python3.10/site-packages (from matplotlib) (0.12.1)\n",
      "Requirement already satisfied: fonttools>=4.22.0 in /opt/conda/lib/python3.10/site-packages (from matplotlib) (4.53.0)\n",
      "Requirement already satisfied: kiwisolver>=1.0.1 in /opt/conda/lib/python3.10/site-packages (from matplotlib) (1.4.5)\n",
      "Requirement already satisfied: numpy<2,>=1.20 in /opt/conda/lib/python3.10/site-packages (from matplotlib) (1.26.4)\n",
      "Requirement already satisfied: packaging>=20.0 in /opt/conda/lib/python3.10/site-packages (from matplotlib) (21.3)\n",
      "Requirement already satisfied: pillow>=6.2.0 in /opt/conda/lib/python3.10/site-packages (from matplotlib) (10.3.0)\n",
      "Requirement already satisfied: pyparsing>=2.3.1 in /opt/conda/lib/python3.10/site-packages (from matplotlib) (3.1.2)\n",
      "Requirement already satisfied: python-dateutil>=2.7 in /opt/conda/lib/python3.10/site-packages (from matplotlib) (2.9.0.post0)\n",
      "Requirement already satisfied: six>=1.5 in /opt/conda/lib/python3.10/site-packages (from python-dateutil>=2.7->matplotlib) (1.16.0)\n",
      "Collecting geffnet\n",
      "  Downloading geffnet-1.0.2-py3-none-any.whl.metadata (22 kB)\n",
      "Requirement already satisfied: torch>=1.4 in /opt/conda/lib/python3.10/site-packages (from geffnet) (2.4.0)\n",
      "Requirement already satisfied: torchvision in /opt/conda/lib/python3.10/site-packages (from geffnet) (0.19.0)\n",
      "Requirement already satisfied: filelock in /opt/conda/lib/python3.10/site-packages (from torch>=1.4->geffnet) (3.15.1)\n",
      "Requirement already satisfied: typing-extensions>=4.8.0 in /opt/conda/lib/python3.10/site-packages (from torch>=1.4->geffnet) (4.12.2)\n",
      "Requirement already satisfied: sympy in /opt/conda/lib/python3.10/site-packages (from torch>=1.4->geffnet) (1.13.3)\n",
      "Requirement already satisfied: networkx in /opt/conda/lib/python3.10/site-packages (from torch>=1.4->geffnet) (3.3)\n",
      "Requirement already satisfied: jinja2 in /opt/conda/lib/python3.10/site-packages (from torch>=1.4->geffnet) (3.1.4)\n",
      "Requirement already satisfied: fsspec in /opt/conda/lib/python3.10/site-packages (from torch>=1.4->geffnet) (2024.6.1)\n",
      "Requirement already satisfied: numpy in /opt/conda/lib/python3.10/site-packages (from torchvision->geffnet) (1.26.4)\n",
      "Requirement already satisfied: pillow!=8.3.*,>=5.3.0 in /opt/conda/lib/python3.10/site-packages (from torchvision->geffnet) (10.3.0)\n",
      "Requirement already satisfied: MarkupSafe>=2.0 in /opt/conda/lib/python3.10/site-packages (from jinja2->torch>=1.4->geffnet) (2.1.5)\n",
      "Requirement already satisfied: mpmath<1.4,>=1.1.0 in /opt/conda/lib/python3.10/site-packages (from sympy->torch>=1.4->geffnet) (1.3.0)\n",
      "Downloading geffnet-1.0.2-py3-none-any.whl (40 kB)\n",
      "\u001b[2K   \u001b[90m━━━━━━━━━━━━━━━━━━━━━━━━━━━━━━━━━━━━━━━━\u001b[0m \u001b[32m40.2/40.2 kB\u001b[0m \u001b[31m2.4 MB/s\u001b[0m eta \u001b[36m0:00:00\u001b[0m\n",
      "\u001b[?25hInstalling collected packages: geffnet\n",
      "Successfully installed geffnet-1.0.2\n"
     ]
    }
   ],
   "source": [
    "!pip install pytorchcv\n",
    "!pip install matplotlib\n",
    "!pip install geffnet"
   ]
  },
  {
   "cell_type": "code",
   "execution_count": 7,
   "metadata": {
    "execution": {
     "iopub.execute_input": "2024-11-27T11:29:22.012101Z",
     "iopub.status.busy": "2024-11-27T11:29:22.011714Z",
     "iopub.status.idle": "2024-11-27T14:24:34.798208Z",
     "shell.execute_reply": "2024-11-27T14:24:34.797357Z",
     "shell.execute_reply.started": "2024-11-27T11:29:22.012060Z"
    },
    "trusted": true
   },
   "outputs": [
    {
     "name": "stdout",
     "output_type": "stream",
     "text": [
      "\n",
      "Dataloader has been created successfully...\n",
      "The dataloader has 28 (28) classes: ['01-Grab', '02-Tap', '03-Expand', '04-Pinch', '05-RotationCW', '06-RotationCCW', '07-SwipeRight', '08-SwipeLeft', '09-SwipeUp', '10-SwipeDown', '11-SwipeX', '12-Swipe+', '13-SwipeV', '14-Shake', '15-Grab', '16-Tap', '17-Expand', '18-Pinch', '19-RotationCW', '20-RotationCCW', '21-SwipeRight', '22-SwipeLeft', '23-SwipeUp', '24-SwipeDown', '25-SwipeX', '26-Swipe+', '27-SwipeV', '28-Shake']\n",
      "Training set [len=1960, img_sz=(960, 960)] loaded on device: cuda:0\n",
      "Validation set [len=840, img_sz=(960, 960)] loaded on device: cuda:0\n",
      "Previewing loaded data [1] and applied transforms [2]...\n",
      "\n",
      "/opt/conda/lib/python3.10/site-packages/torchvision/models/_utils.py:208: UserWarning: The parameter 'pretrained' is deprecated since 0.13 and may be removed in the future, please use 'weights' instead.\n",
      "  warnings.warn(\n",
      "/opt/conda/lib/python3.10/site-packages/torchvision/models/_utils.py:223: UserWarning: Arguments other than a weight enum or `None` for 'weights' are deprecated since 0.13 and may be removed in the future. The current behavior is equivalent to passing `weights=ResNet34_Weights.IMAGENET1K_V1`. You can also use `weights=ResNet34_Weights.DEFAULT` to get the most up-to-date weights.\n",
      "  warnings.warn(msg)\n",
      "Downloading: \"https://download.pytorch.org/models/resnet34-b627a593.pth\" to /root/.cache/torch/hub/checkpoints/resnet34-b627a593.pth\n",
      "100%|███████████████████████████████████████| 83.3M/83.3M [00:00<00:00, 167MB/s]\n",
      "\n",
      "metrics= [<bound method accuracyMultiVOs_0 of e2eTunerLossWrapper()>, <bound method accuracyMultiVOs_1 of e2eTunerLossWrapper()>, <bound method accuracyMultiVOs_2 of e2eTunerLossWrapper()>, <bound method e2eTunerLossWrapper.accuracyTuner of e2eTunerLossWrapper()>]\n",
      "Batch Size: 16, Image Size: 224, Epochs: [20, 20]\n",
      "\n",
      "Model FROZEN [a].\n",
      "/opt/conda/lib/python3.10/site-packages/fastai/learner.py:53: FutureWarning: You are using `torch.load` with `weights_only=False` (the current default value), which uses the default pickle module implicitly. It is possible to construct malicious pickle data which will execute arbitrary code during unpickling (See https://github.com/pytorch/pytorch/blob/main/SECURITY.md#untrusted-models for more details). In a future release, the default value for `weights_only` will be flipped to `True`. This limits the functions that could be executed during unpickling. Arbitrary objects will no longer be allowed to be loaded via this mode unless they are explicitly allowlisted by the user via `torch.serialization.add_safe_globals`. We recommend you start setting `weights_only=True` for any use case where you don't have full control of the loaded file. Please open an issue on GitHub for any issues related to this experimental feature.\n",
      "  state = torch.load(file, map_location=device, **torch_load_kwargs)\n",
      ">> @i224a --- pct_start: 0.55 --- learning_rate: 0.001737800776027143\n",
      "epoch     train_loss  valid_loss  accuracyTopDown  accuracyCustom  accuracyFrontAway  accuracyTuner  time    \n",
      "0         11.036810   9.319970    0.211905         0.259524        0.341667           0.442857       03:15     \n",
      "1         9.185404    7.713523    0.294048         0.359524        0.425000           0.626190       03:16     \n",
      "2         8.104020    6.682597    0.354762         0.433333        0.472619           0.725000       03:15     \n",
      "3         7.495467    6.825760    0.344048         0.432143        0.461905           0.711905       03:16     \n",
      "4         7.104389    6.228277    0.370238         0.448810        0.533333           0.757143       03:15     \n",
      "5         6.565270    6.085050    0.371429         0.459524        0.538095           0.760714       03:12     \n",
      "6         6.426499    6.130416    0.422619         0.454762        0.548810           0.773810       03:12     \n",
      "7         6.308616    5.818615    0.383333         0.478571        0.571429           0.775000       03:12     \n",
      "8         6.076651    5.564780    0.430952         0.521429        0.559524           0.798810       03:13     \n",
      "9         5.758977    5.211082    0.502381         0.532143        0.554762           0.804762       03:15     \n",
      "10        5.647336    5.470276    0.453571         0.520238        0.578571           0.811905       03:14     \n",
      "11        5.635906    5.062079    0.478571         0.536905        0.615476           0.823810       03:16     \n",
      "12        5.367194    5.103006    0.476190         0.548810        0.609524           0.842857       03:16     \n",
      "13        5.144911    5.056834    0.469048         0.511905        0.626190           0.841667       03:16     \n",
      "14        4.958851    4.862125    0.502381         0.554762        0.613095           0.853571       03:15     \n",
      "15        4.729332    4.676157    0.507143         0.564286        0.627381           0.855952       03:13     \n",
      "16        4.548615    4.653363    0.525000         0.569048        0.638095           0.864286       03:14     \n",
      "17        4.496056    4.569740    0.528571         0.576190        0.622619           0.861905       03:13     \n",
      "18        4.226254    4.646142    0.516667         0.569048        0.622619           0.866667       03:13     \n",
      "19        4.228685    4.639951    0.514286         0.575000        0.621429           0.860714       03:12     \n",
      "@outsidersCustomCallback: Training completed and best i224a model loaded!\n",
      "-- [ i224a] - 0.5167 - 0.5690 - 0.6226 - 0.8667 - 01:07\n",
      "\n",
      "Model UNFROZEN [b].\n",
      ">> @i224b --- pct_start: 0.55 --- learning_rate: 2.0892961401841603e-05\n",
      "epoch     train_loss  valid_loss  accuracyTopDown  accuracyCustom  accuracyFrontAway  accuracyTuner  time    \n",
      "0         4.271201    4.484192    0.500000         0.578571        0.657143           0.871429       03:26     \n",
      "1         4.332650    4.494153    0.514286         0.604762        0.628571           0.867857       03:26     \n",
      "2         4.046983    4.487502    0.523810         0.591667        0.651190           0.859524       03:29     \n",
      "3         3.820844    4.314940    0.557143         0.595238        0.644048           0.865476       03:29     \n",
      "4         3.879877    4.299245    0.566667         0.594048        0.638095           0.872619       03:30     \n",
      "5         3.622522    4.268598    0.544048         0.607143        0.672619           0.865476       03:29     \n",
      "6         3.389373    4.320445    0.563095         0.595238        0.665476           0.864286       03:28     \n",
      "7         3.341826    4.015592    0.595238         0.635714        0.669048           0.884524       03:30     \n",
      "8         3.232317    4.053615    0.576190         0.650000        0.667857           0.871429       03:29     \n",
      "9         3.245713    3.960493    0.585714         0.605952        0.690476           0.898810       03:29     \n",
      "10        3.212078    4.028018    0.584524         0.607143        0.673810           0.885714       03:29     \n",
      "11        3.032403    4.107848    0.579762         0.625000        0.660714           0.886905       03:31     \n",
      "12        2.947092    4.037812    0.584524         0.615476        0.670238           0.884524       03:29     \n",
      "13        2.870399    3.826574    0.604762         0.651190        0.680952           0.890476       03:30     \n",
      "14        2.620179    3.730480    0.592857         0.646429        0.703571           0.901190       03:28     \n",
      "15        2.492455    3.658130    0.620238         0.650000        0.701190           0.900000       03:29     \n",
      "16        2.428691    3.713501    0.600000         0.645238        0.714286           0.903571       03:29     \n",
      "17        2.425343    3.604613    0.620238         0.661905        0.705952           0.916667       03:29     \n",
      "18        2.330823    3.632580    0.608333         0.657143        0.707143           0.910714       03:28     \n",
      "19        2.351218    3.651860    0.610714         0.650000        0.703571           0.904762       03:27     \n",
      "@outsidersCustomCallback: Training completed and best i224b model loaded!\n",
      "-- [ i224b] - 0.6202 - 0.6619 - 0.7060 - 0.9167 - 02:18\n",
      ">> @i224bf --- pct_start: 0.55 --- learning_rate: 2.0892961401841602e-06\n",
      "epoch     train_loss  valid_loss  accuracyTopDown  accuracyCustom  accuracyFrontAway  accuracyTuner  time    \n",
      "0         2.247454    3.729117    0.600000         0.651190        0.697619           0.904762       03:25     \n",
      "1         2.254135    3.672015    0.603571         0.659524        0.722619           0.908333       03:27     \n",
      "2         2.323058    3.671999    0.605952         0.655952        0.708333           0.911905       03:27     \n",
      "3         2.285310    3.709909    0.610714         0.652381        0.702381           0.902381       03:28     \n",
      "4         2.332466    3.693599    0.613095         0.666667        0.696429           0.900000       03:29     \n",
      "5         2.238268    3.619857    0.622619         0.654762        0.698810           0.904762       03:31     \n",
      "6         2.200285    3.686770    0.600000         0.659524        0.697619           0.907143       03:29     \n",
      "7         2.342099    3.678236    0.614286         0.651190        0.701190           0.909524       03:28     \n",
      "8         2.229625    3.628520    0.619048         0.663095        0.709524           0.910714       03:29     \n",
      "9         2.198631    3.643418    0.605952         0.661905        0.716667           0.914286       03:30     \n",
      "@outsidersCustomCallback: Training completed and best i224bf model loaded!\n",
      "-- [i224bf] - 0.6060 - 0.6619 - 0.7167 - 0.9143 - 02:53\n",
      "Time Elapsed ~ 02h:53m:44s\n",
      "accuracies@e2eT: {'Top-Down': 0.6202, 'Custom': 0.6619, 'Front-Away': 0.706, 'Tuner': 0.9167}\n",
      "e2eT_MaxA: 0.9167 @02h:54m:37s\n",
      "Training completed @mVO.e2eEnsembleTuning ->> [3e4c]-271124.1129 ->- e2eT-DHG1428.3d-28G-[td_cm_fa]-i20\n"
     ]
    }
   ],
   "source": [
    "!python mVO.e2eEnsembleTuning.py -IG 0 -nC 28 -mVOs top-down custom front-away -dsN DHG1428 -IISE 0 -ISIS 0"
   ]
  },
  {
   "cell_type": "code",
   "execution_count": null,
   "metadata": {
    "trusted": true
   },
   "outputs": [],
   "source": []
  }
 ],
 "metadata": {
  "kaggle": {
   "accelerator": "nvidiaTeslaT4",
   "dataSources": [
    {
     "datasetId": 6164966,
     "sourceId": 10013524,
     "sourceType": "datasetVersion"
    }
   ],
   "dockerImageVersionId": 30787,
   "isGpuEnabled": true,
   "isInternetEnabled": true,
   "language": "python",
   "sourceType": "notebook"
  },
  "kernelspec": {
   "display_name": "Python 3",
   "language": "python",
   "name": "python3"
  },
  "language_info": {
   "codemirror_mode": {
    "name": "ipython",
    "version": 3
   },
   "file_extension": ".py",
   "mimetype": "text/x-python",
   "name": "python",
   "nbconvert_exporter": "python",
   "pygments_lexer": "ipython3",
   "version": "3.10.14"
  }
 },
 "nbformat": 4,
 "nbformat_minor": 4
}
